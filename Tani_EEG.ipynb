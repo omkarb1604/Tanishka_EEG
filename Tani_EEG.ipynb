{
 "cells": [
  {
   "cell_type": "code",
   "execution_count": 526,
   "metadata": {},
   "outputs": [],
   "source": [
    "from pyedflib import highlevel\n",
    "import numpy as np\n",
    "import pandas as pd\n",
    "import peakutils"
   ]
  },
  {
   "cell_type": "code",
   "execution_count": 527,
   "metadata": {},
   "outputs": [],
   "source": [
    "import matplotlib.pyplot as plt"
   ]
  },
  {
   "cell_type": "code",
   "execution_count": 528,
   "metadata": {},
   "outputs": [],
   "source": [
    "signals, signal_headers, header = highlevel.read_edf('Documents/Tani_eeg/edffiles/WTF48N_FPT_EDF.edf')"
   ]
  },
  {
   "cell_type": "code",
   "execution_count": 531,
   "metadata": {},
   "outputs": [],
   "source": [
    "a=signals[0]\n",
    "b=signals[1]\n",
    "c=signals[2]\n",
    "r=c"
   ]
  },
  {
   "cell_type": "code",
   "execution_count": 532,
   "metadata": {},
   "outputs": [],
   "source": [
    "Fs=2000"
   ]
  },
  {
   "cell_type": "code",
   "execution_count": 533,
   "metadata": {},
   "outputs": [],
   "source": [
    "fft_freq=[]\n",
    "fft_vals=[]\n",
    "baseline_values=[]\n",
    "# Get frequencies for amplitudes in Hz\n",
    "for i in range(len(signals)):\n",
    "    fft_freq.append(np.fft.rfftfreq(len(signals[i]), 1.0/Fs))\n",
    "    fft_vals.append(np.absolute(np.fft.rfft(signals[i])))\n",
    "    baseline_values = peakutils.baseline(signals[i])\n",
    "    t=np.arange(len(signals[i]))"
   ]
  },
  {
   "cell_type": "code",
   "execution_count": 534,
   "metadata": {},
   "outputs": [],
   "source": [
    "# Define EEG bands\n",
    "eeg_bands = {'Delta': (0.5, 4),\n",
    "             'Theta': (4, 8),\n",
    "             'Alpha': (8, 13),\n",
    "             'Beta': (13, 30),\n",
    "             'Low Gamma': (30,60),\n",
    "            'High Gamma': (60,100)}"
   ]
  },
  {
   "cell_type": "code",
   "execution_count": 535,
   "metadata": {},
   "outputs": [],
   "source": [
    "eeg_band_fft = dict()\n",
    "for band in eeg_bands:  \n",
    "    freq_ix = np.where((fft_freq >= eeg_bands[band][0]) & \n",
    "                       (fft_freq <= eeg_bands[band][1]))[0]\n",
    "    eeg_band_fft[band] = np.mean(fft_vals[freq_ix])"
   ]
  },
  {
   "cell_type": "markdown",
   "metadata": {},
   "source": [
    "\n",
    "ax = df.T.plot(kind='bar',label='band',color=['C0', 'C1', 'C2', 'C3', 'C4','C5','C6'])\n",
    "ax.set_xlabel(\"EEG band\",size=16)\n",
    "ax.set_ylabel(\"Mean band Amplitude\",size=16)"
   ]
  },
  {
   "cell_type": "code",
   "execution_count": 536,
   "metadata": {},
   "outputs": [
    {
     "data": {
      "image/png": "[encoded data removed]",
      "text/plain": [
       "<Figure size 864x576 with 1 Axes>"
      ]
     },
     "metadata": {
      "needs_background": "light"
     },
     "output_type": "display_data"
    }
   ],
   "source": [
    "df = pd.DataFrame(columns=['band', 'val'])\n",
    "df['band'] = eeg_bands.keys()\n",
    "df['val'] = [eeg_band_fft[band] for band in eeg_bands]\n",
    "eeg_bands_xticks=['Delta','Theta','Alpha','Beta','Low Gamma','High Gamma']\n",
    "eeg_bands_xticks_num=[0,1,2,3,4,5]\n",
    "plt.figure(figsize=(12, 8))\n",
    "ax=plt.bar(range(len(df)), df[\"val\"], label=df['band'],color=plt.cm.Paired(np.arange(len(df))))\n",
    "plt.xlabel('EEG BANDS',size=18)\n",
    "plt.ylabel('MEAN BAND AMPLITUDE',size=18)\n",
    "plt.xticks(eeg_bands_xticks_num,eeg_bands_xticks,size=16)\n",
    "plt.yticks(size=16)\n",
    "plt.ylim(0,260000)\n",
    "plt.show()"
   ]
  },
  {
   "cell_type": "code",
   "execution_count": 537,
   "metadata": {},
   "outputs": [
    {
     "data": {
      "text/html": [
       "<div>\n",
       "<style scoped>\n",
       "    .dataframe tbody tr th:only-of-type {\n",
       "        vertical-align: middle;\n",
       "    }\n",
       "\n",
       "    .dataframe tbody tr th {\n",
       "        vertical-align: top;\n",
       "    }\n",
       "\n",
       "    .dataframe thead th {\n",
       "        text-align: right;\n",
       "    }\n",
       "</style>\n",
       "<table border=\"1\" class=\"dataframe\">\n",
       "  <thead>\n",
       "    <tr style=\"text-align: right;\">\n",
       "      <th></th>\n",
       "      <th>band</th>\n",
       "      <th>val</th>\n",
       "    </tr>\n",
       "  </thead>\n",
       "  <tbody>\n",
       "    <tr>\n",
       "      <td>0</td>\n",
       "      <td>Delta</td>\n",
       "      <td>115912.523521</td>\n",
       "    </tr>\n",
       "    <tr>\n",
       "      <td>1</td>\n",
       "      <td>Theta</td>\n",
       "      <td>108348.572864</td>\n",
       "    </tr>\n",
       "    <tr>\n",
       "      <td>2</td>\n",
       "      <td>Alpha</td>\n",
       "      <td>73864.016279</td>\n",
       "    </tr>\n",
       "    <tr>\n",
       "      <td>3</td>\n",
       "      <td>Beta</td>\n",
       "      <td>66955.576605</td>\n",
       "    </tr>\n",
       "    <tr>\n",
       "      <td>4</td>\n",
       "      <td>Low Gamma</td>\n",
       "      <td>58858.294572</td>\n",
       "    </tr>\n",
       "    <tr>\n",
       "      <td>5</td>\n",
       "      <td>High Gamma</td>\n",
       "      <td>40548.397034</td>\n",
       "    </tr>\n",
       "  </tbody>\n",
       "</table>\n",
       "</div>"
      ],
      "text/plain": [
       "         band            val\n",
       "0       Delta  115912.523521\n",
       "1       Theta  108348.572864\n",
       "2       Alpha   73864.016279\n",
       "3        Beta   66955.576605\n",
       "4   Low Gamma   58858.294572\n",
       "5  High Gamma   40548.397034"
      ]
     },
     "execution_count": 537,
     "metadata": {},
     "output_type": "execute_result"
    }
   ],
   "source": [
    "df"
   ]
  },
  {
   "cell_type": "code",
   "execution_count": 538,
   "metadata": {
    "scrolled": true
   },
   "outputs": [
    {
     "data": {
      "text/plain": [
       "<matplotlib.legend.Legend at 0x235c35e90>"
      ]
     },
     "execution_count": 538,
     "metadata": {},
     "output_type": "execute_result"
    },
    {
     "name": "stderr",
     "output_type": "stream",
     "text": [
      "/Library/Frameworks/Python.framework/Versions/3.7/lib/python3.7/site-packages/IPython/core/events.py:88: UserWarning: Creating legend with loc=\"best\" can be slow with large amounts of data.\n",
      "  func(*args, **kwargs)\n",
      "/Library/Frameworks/Python.framework/Versions/3.7/lib/python3.7/site-packages/IPython/core/pylabtools.py:128: UserWarning: Creating legend with loc=\"best\" can be slow with large amounts of data.\n",
      "  fig.canvas.print_figure(bytes_io, **kw)\n"
     ]
    },
    {
     "data": {
      "image/png": "[encoded data removed]",
      "text/plain": [
       "<Figure size 432x288 with 1 Axes>"
      ]
     },
     "metadata": {
      "needs_background": "light"
     },
     "output_type": "display_data"
    }
   ],
   "source": [
    "plt.plot(t,r,color='maroon',label='data')\n",
    "plt.plot(t,baseline_values,color='blue',linewidth=5,label='baseline')\n",
    "plt.ylim(-400,400)\n",
    "plt.legend()"
   ]
  }
 ],
 "metadata": {
  "kernelspec": {
   "display_name": "Python 3",
   "language": "python",
   "name": "python3"
  },
  "language_info": {
   "codemirror_mode": {
    "name": "ipython",
    "version": 3
   },
   "file_extension": ".py",
   "mimetype": "text/x-python",
   "name": "python",
   "nbconvert_exporter": "python",
   "pygments_lexer": "ipython3",
   "version": "3.7.4"
  }
 },
 "nbformat": 4,
 "nbformat_minor": 2
}
